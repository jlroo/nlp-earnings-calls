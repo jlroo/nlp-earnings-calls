{
 "cells": [
  {
   "cell_type": "markdown",
   "id": "ac9f0b1e",
   "metadata": {},
   "source": [
    "# Data Preparation and Market Data\n",
    "\n",
    "### Text Mining on Earnings Calls during a Pandemic as a Means to Predict End-Of-The-Month Stock Performances\n",
    "####  Olin School of Business <br> Jose Luis Rodriguez  <br> jlr@wustl.edu <br> Fall 2021"
   ]
  },
  {
   "cell_type": "code",
   "execution_count": 2,
   "id": "d4ad2fdd",
   "metadata": {},
   "outputs": [],
   "source": [
    "import intrinio_sdk\n",
    "import configparser as cp\n",
    "import pandas as pd"
   ]
  },
  {
   "cell_type": "markdown",
   "id": "60ab6a20",
   "metadata": {},
   "source": [
    "\n",
    "**Intrinio API: Secure method to load API credentials**"
   ]
  },
  {
   "cell_type": "code",
   "execution_count": 2,
   "id": "5decd540",
   "metadata": {},
   "outputs": [
    {
     "data": {
      "text/plain": [
       "['resources/credentials.cfg']"
      ]
     },
     "execution_count": 2,
     "metadata": {},
     "output_type": "execute_result"
    }
   ],
   "source": [
    "cfg = cp.ConfigParser()\n",
    "cfg.read('resources/credentials.cfg')"
   ]
  },
  {
   "cell_type": "code",
   "execution_count": 3,
   "id": "4bddb5ee",
   "metadata": {},
   "outputs": [],
   "source": [
    "API_KEY = cfg['intrinio']['app_key']\n",
    "\n",
    "intrinio_sdk.ApiClient().configuration.api_key['api_key'] = API_KEY\n",
    "\n",
    "security_api = intrinio_sdk.SecurityApi()"
   ]
  },
  {
   "cell_type": "markdown",
   "id": "07866926",
   "metadata": {},
   "source": [
    "## Hotels, Restaurants and Leasure Stocks Tickers"
   ]
  },
  {
   "cell_type": "code",
   "execution_count": 23,
   "id": "5c2138cd",
   "metadata": {},
   "outputs": [
    {
     "data": {
      "text/html": [
       "<div>\n",
       "<style scoped>\n",
       "    .dataframe tbody tr th:only-of-type {\n",
       "        vertical-align: middle;\n",
       "    }\n",
       "\n",
       "    .dataframe tbody tr th {\n",
       "        vertical-align: top;\n",
       "    }\n",
       "\n",
       "    .dataframe thead th {\n",
       "        text-align: right;\n",
       "    }\n",
       "</style>\n",
       "<table border=\"1\" class=\"dataframe\">\n",
       "  <thead>\n",
       "    <tr style=\"text-align: right;\">\n",
       "      <th></th>\n",
       "      <th>sic_code</th>\n",
       "    </tr>\n",
       "  </thead>\n",
       "  <tbody>\n",
       "    <tr>\n",
       "      <th>120</th>\n",
       "      <td>ACEL</td>\n",
       "    </tr>\n",
       "    <tr>\n",
       "      <th>61</th>\n",
       "      <td>AESE</td>\n",
       "    </tr>\n",
       "    <tr>\n",
       "      <th>84</th>\n",
       "      <td>AGS</td>\n",
       "    </tr>\n",
       "    <tr>\n",
       "      <th>0</th>\n",
       "      <td>ARKR</td>\n",
       "    </tr>\n",
       "    <tr>\n",
       "      <th>32</th>\n",
       "      <td>ARMK</td>\n",
       "    </tr>\n",
       "    <tr>\n",
       "      <th>...</th>\n",
       "      <td>...</td>\n",
       "    </tr>\n",
       "    <tr>\n",
       "      <th>172</th>\n",
       "      <td>WEN</td>\n",
       "    </tr>\n",
       "    <tr>\n",
       "      <th>220</th>\n",
       "      <td>WH</td>\n",
       "    </tr>\n",
       "    <tr>\n",
       "      <th>180</th>\n",
       "      <td>WING</td>\n",
       "    </tr>\n",
       "    <tr>\n",
       "      <th>112</th>\n",
       "      <td>WYNN</td>\n",
       "    </tr>\n",
       "    <tr>\n",
       "      <th>228</th>\n",
       "      <td>YUM</td>\n",
       "    </tr>\n",
       "  </tbody>\n",
       "</table>\n",
       "<p>83 rows × 1 columns</p>\n",
       "</div>"
      ],
      "text/plain": [
       "    sic_code\n",
       "120     ACEL\n",
       "61      AESE\n",
       "84       AGS\n",
       "0       ARKR\n",
       "32      ARMK\n",
       "..       ...\n",
       "172      WEN\n",
       "220       WH\n",
       "180     WING\n",
       "112     WYNN\n",
       "228      YUM\n",
       "\n",
       "[83 rows x 1 columns]"
      ]
     },
     "execution_count": 23,
     "metadata": {},
     "output_type": "execute_result"
    }
   ],
   "source": [
    "#sdf = pd.read_csv('data/hrl_mrk20.csv')\n",
    "ind_sic = sdf[['related']].drop_duplicates().rename(columns={'related':'sic_code'})\n",
    "ind_sic = ind_sic.sort_values(by='sic_code')\n",
    "ind_sic.to_csv('data/')"
   ]
  },
  {
   "cell_type": "code",
   "execution_count": 4,
   "id": "24747e2f",
   "metadata": {},
   "outputs": [
    {
     "data": {
      "text/html": [
       "<div>\n",
       "<style scoped>\n",
       "    .dataframe tbody tr th:only-of-type {\n",
       "        vertical-align: middle;\n",
       "    }\n",
       "\n",
       "    .dataframe tbody tr th {\n",
       "        vertical-align: top;\n",
       "    }\n",
       "\n",
       "    .dataframe thead th {\n",
       "        text-align: right;\n",
       "    }\n",
       "</style>\n",
       "<table border=\"1\" class=\"dataframe\">\n",
       "  <thead>\n",
       "    <tr style=\"text-align: right;\">\n",
       "      <th></th>\n",
       "      <th>ticker</th>\n",
       "    </tr>\n",
       "  </thead>\n",
       "  <tbody>\n",
       "    <tr>\n",
       "      <th>0</th>\n",
       "      <td></td>\n",
       "    </tr>\n",
       "    <tr>\n",
       "      <th>1</th>\n",
       "      <td></td>\n",
       "    </tr>\n",
       "    <tr>\n",
       "      <th>2</th>\n",
       "      <td></td>\n",
       "    </tr>\n",
       "    <tr>\n",
       "      <th>3</th>\n",
       "      <td></td>\n",
       "    </tr>\n",
       "    <tr>\n",
       "      <th>4</th>\n",
       "      <td></td>\n",
       "    </tr>\n",
       "    <tr>\n",
       "      <th>...</th>\n",
       "      <td>...</td>\n",
       "    </tr>\n",
       "    <tr>\n",
       "      <th>305</th>\n",
       "      <td></td>\n",
       "    </tr>\n",
       "    <tr>\n",
       "      <th>306</th>\n",
       "      <td></td>\n",
       "    </tr>\n",
       "    <tr>\n",
       "      <th>307</th>\n",
       "      <td></td>\n",
       "    </tr>\n",
       "    <tr>\n",
       "      <th>308</th>\n",
       "      <td></td>\n",
       "    </tr>\n",
       "    <tr>\n",
       "      <th>309</th>\n",
       "      <td></td>\n",
       "    </tr>\n",
       "  </tbody>\n",
       "</table>\n",
       "<p>310 rows × 1 columns</p>\n",
       "</div>"
      ],
      "text/plain": [
       "    ticker\n",
       "0         \n",
       "1         \n",
       "2         \n",
       "3         \n",
       "4         \n",
       "..     ...\n",
       "305       \n",
       "306       \n",
       "307       \n",
       "308       \n",
       "309       \n",
       "\n",
       "[310 rows x 1 columns]"
      ]
     },
     "execution_count": 4,
     "metadata": {},
     "output_type": "execute_result"
    }
   ],
   "source": [
    "tickers = sdf['related'].apply(lambda x:x.split(':')[1] if len(x.split(':'))>1 else '')\n",
    "sdf['ticker'] = tickers\n",
    "tickers = tickers.reset_index()\n",
    "tickers.columns = ['index','ticker']\n",
    "tickers = tickers.drop(columns = ['index'])\n",
    "tickers"
   ]
  },
  {
   "cell_type": "code",
   "execution_count": 83,
   "id": "3284a0d7",
   "metadata": {},
   "outputs": [],
   "source": [
    "# date | Return prices on or after the date (optional)\n",
    "start_date = '2021-01-01'\n",
    "\n",
    "# date | Return prices on or before the date (optional)\n",
    "end_date = '2021-12-31'\n",
    "\n",
    "# str | Return stock prices in the given frequency (optional) (default to daily)\n",
    "frequency = 'monthly'"
   ]
  },
  {
   "cell_type": "code",
   "execution_count": 84,
   "id": "616ea632",
   "metadata": {},
   "outputs": [],
   "source": [
    "dfs = []\n",
    "missing = []\n",
    "for ticker in tickers['ticker'].unique():\n",
    "    try:\n",
    "        next_page = ''\n",
    "        response = security_api.get_security_stock_prices(ticker,\n",
    "                                                          start_date = start_date,\n",
    "                                                          end_date = end_date,\n",
    "                                                          frequency = frequency)\n",
    "        df = [p.to_dict() for p in response.stock_prices]\n",
    "        next_page = response.next_page\n",
    "        if next_page != None:\n",
    "            response = security_api.get_security_stock_prices(ticker,\n",
    "                                                              start_date = start_date,\n",
    "                                                              end_date = end_date,\n",
    "                                                              frequency = frequency,\n",
    "                                                              next_page = next_page)    \n",
    "            df.extend(p.to_dict() for p in response.stock_prices)\n",
    "        df = pd.DataFrame.from_dict(df)\n",
    "        df['secid'] = ticker\n",
    "        dfs.append(df)\n",
    "    except:\n",
    "        missing.append(ticker)"
   ]
  },
  {
   "cell_type": "code",
   "execution_count": 85,
   "id": "87c208c2",
   "metadata": {},
   "outputs": [
    {
     "data": {
      "text/plain": [
       "(667, 20)"
      ]
     },
     "execution_count": 85,
     "metadata": {},
     "output_type": "execute_result"
    }
   ],
   "source": [
    "sdf = pd.concat(dfs)\n",
    "sdf.index = pd.DatetimeIndex(sdf['date'])\n",
    "sdf = sdf.drop('date', axis=1)\n",
    "sdf.index.name = None\n",
    "\n",
    "#SORT DATETIME INDEX\n",
    "sdf = sdf.sort_index()"
   ]
  },
  {
   "cell_type": "code",
   "execution_count": 86,
   "id": "8d044108",
   "metadata": {},
   "outputs": [
    {
     "data": {
      "text/html": [
       "<div>\n",
       "<style scoped>\n",
       "    .dataframe tbody tr th:only-of-type {\n",
       "        vertical-align: middle;\n",
       "    }\n",
       "\n",
       "    .dataframe tbody tr th {\n",
       "        vertical-align: top;\n",
       "    }\n",
       "\n",
       "    .dataframe thead th {\n",
       "        text-align: right;\n",
       "    }\n",
       "</style>\n",
       "<table border=\"1\" class=\"dataframe\">\n",
       "  <thead>\n",
       "    <tr style=\"text-align: right;\">\n",
       "      <th></th>\n",
       "      <th>intraperiod</th>\n",
       "      <th>frequency</th>\n",
       "      <th>open</th>\n",
       "      <th>high</th>\n",
       "      <th>low</th>\n",
       "      <th>close</th>\n",
       "      <th>volume</th>\n",
       "      <th>adj_open</th>\n",
       "      <th>adj_high</th>\n",
       "      <th>adj_low</th>\n",
       "      <th>adj_close</th>\n",
       "      <th>adj_volume</th>\n",
       "      <th>factor</th>\n",
       "      <th>split_ratio</th>\n",
       "      <th>dividend</th>\n",
       "      <th>change</th>\n",
       "      <th>percent_change</th>\n",
       "      <th>fifty_two_week_high</th>\n",
       "      <th>fifty_two_week_low</th>\n",
       "      <th>secid</th>\n",
       "    </tr>\n",
       "  </thead>\n",
       "  <tbody>\n",
       "    <tr>\n",
       "      <th>2021-01-31</th>\n",
       "      <td>False</td>\n",
       "      <td>monthly</td>\n",
       "      <td>37.82</td>\n",
       "      <td>41.00</td>\n",
       "      <td>27.47</td>\n",
       "      <td>27.79</td>\n",
       "      <td>2.636638e+07</td>\n",
       "      <td>2.240467</td>\n",
       "      <td>2.492328</td>\n",
       "      <td>2.185373</td>\n",
       "      <td>2.262245</td>\n",
       "      <td>2.636638e+07</td>\n",
       "      <td>1.0</td>\n",
       "      <td>1.0</td>\n",
       "      <td>11.0</td>\n",
       "      <td>0.04</td>\n",
       "      <td>0.017</td>\n",
       "      <td>None</td>\n",
       "      <td>None</td>\n",
       "      <td>MIC</td>\n",
       "    </tr>\n",
       "    <tr>\n",
       "      <th>2021-01-31</th>\n",
       "      <td>False</td>\n",
       "      <td>monthly</td>\n",
       "      <td>15.85</td>\n",
       "      <td>21.77</td>\n",
       "      <td>14.71</td>\n",
       "      <td>17.17</td>\n",
       "      <td>1.444467e+09</td>\n",
       "      <td>15.850000</td>\n",
       "      <td>21.770000</td>\n",
       "      <td>14.710000</td>\n",
       "      <td>17.170000</td>\n",
       "      <td>1.444467e+09</td>\n",
       "      <td>1.0</td>\n",
       "      <td>1.0</td>\n",
       "      <td>0.0</td>\n",
       "      <td>1.4</td>\n",
       "      <td>0.0888</td>\n",
       "      <td>None</td>\n",
       "      <td>None</td>\n",
       "      <td>AAL</td>\n",
       "    </tr>\n",
       "    <tr>\n",
       "      <th>2021-01-31</th>\n",
       "      <td>False</td>\n",
       "      <td>monthly</td>\n",
       "      <td>77.34</td>\n",
       "      <td>82.32</td>\n",
       "      <td>71.57</td>\n",
       "      <td>71.69</td>\n",
       "      <td>2.167858e+06</td>\n",
       "      <td>76.641410</td>\n",
       "      <td>81.576427</td>\n",
       "      <td>70.923529</td>\n",
       "      <td>71.042445</td>\n",
       "      <td>2.167858e+06</td>\n",
       "      <td>1.0</td>\n",
       "      <td>1.0</td>\n",
       "      <td>0.0</td>\n",
       "      <td>-5.1</td>\n",
       "      <td>-0.067</td>\n",
       "      <td>None</td>\n",
       "      <td>None</td>\n",
       "      <td>FWRD</td>\n",
       "    </tr>\n",
       "    <tr>\n",
       "      <th>2021-01-31</th>\n",
       "      <td>False</td>\n",
       "      <td>monthly</td>\n",
       "      <td>134.68</td>\n",
       "      <td>158.91</td>\n",
       "      <td>132.36</td>\n",
       "      <td>139.40</td>\n",
       "      <td>6.480489e+06</td>\n",
       "      <td>132.054256</td>\n",
       "      <td>158.025887</td>\n",
       "      <td>129.779487</td>\n",
       "      <td>138.624433</td>\n",
       "      <td>6.480489e+06</td>\n",
       "      <td>1.0</td>\n",
       "      <td>1.0</td>\n",
       "      <td>2.0</td>\n",
       "      <td>6.59</td>\n",
       "      <td>0.0499</td>\n",
       "      <td>None</td>\n",
       "      <td>None</td>\n",
       "      <td>LSTR</td>\n",
       "    </tr>\n",
       "    <tr>\n",
       "      <th>2021-01-31</th>\n",
       "      <td>False</td>\n",
       "      <td>monthly</td>\n",
       "      <td>119.32</td>\n",
       "      <td>128.57</td>\n",
       "      <td>108.78</td>\n",
       "      <td>110.41</td>\n",
       "      <td>1.792281e+07</td>\n",
       "      <td>70.280848</td>\n",
       "      <td>75.729204</td>\n",
       "      <td>64.072667</td>\n",
       "      <td>65.032756</td>\n",
       "      <td>1.792281e+07</td>\n",
       "      <td>1.0</td>\n",
       "      <td>1.0</td>\n",
       "      <td>0.0</td>\n",
       "      <td>-5.18</td>\n",
       "      <td>-0.0737</td>\n",
       "      <td>None</td>\n",
       "      <td>None</td>\n",
       "      <td>XPO</td>\n",
       "    </tr>\n",
       "  </tbody>\n",
       "</table>\n",
       "</div>"
      ],
      "text/plain": [
       "           intraperiod frequency    open    high     low   close  \\\n",
       "2021-01-31       False   monthly   37.82   41.00   27.47   27.79   \n",
       "2021-01-31       False   monthly   15.85   21.77   14.71   17.17   \n",
       "2021-01-31       False   monthly   77.34   82.32   71.57   71.69   \n",
       "2021-01-31       False   monthly  134.68  158.91  132.36  139.40   \n",
       "2021-01-31       False   monthly  119.32  128.57  108.78  110.41   \n",
       "\n",
       "                  volume    adj_open    adj_high     adj_low   adj_close  \\\n",
       "2021-01-31  2.636638e+07    2.240467    2.492328    2.185373    2.262245   \n",
       "2021-01-31  1.444467e+09   15.850000   21.770000   14.710000   17.170000   \n",
       "2021-01-31  2.167858e+06   76.641410   81.576427   70.923529   71.042445   \n",
       "2021-01-31  6.480489e+06  132.054256  158.025887  129.779487  138.624433   \n",
       "2021-01-31  1.792281e+07   70.280848   75.729204   64.072667   65.032756   \n",
       "\n",
       "              adj_volume  factor  split_ratio  dividend change percent_change  \\\n",
       "2021-01-31  2.636638e+07     1.0          1.0      11.0   0.04          0.017   \n",
       "2021-01-31  1.444467e+09     1.0          1.0       0.0    1.4         0.0888   \n",
       "2021-01-31  2.167858e+06     1.0          1.0       0.0   -5.1         -0.067   \n",
       "2021-01-31  6.480489e+06     1.0          1.0       2.0   6.59         0.0499   \n",
       "2021-01-31  1.792281e+07     1.0          1.0       0.0  -5.18        -0.0737   \n",
       "\n",
       "           fifty_two_week_high fifty_two_week_low secid  \n",
       "2021-01-31                None               None   MIC  \n",
       "2021-01-31                None               None   AAL  \n",
       "2021-01-31                None               None  FWRD  \n",
       "2021-01-31                None               None  LSTR  \n",
       "2021-01-31                None               None   XPO  "
      ]
     },
     "execution_count": 86,
     "metadata": {},
     "output_type": "execute_result"
    }
   ],
   "source": [
    "sdf.head()"
   ]
  },
  {
   "cell_type": "code",
   "execution_count": 87,
   "id": "652d44c9",
   "metadata": {},
   "outputs": [],
   "source": [
    "sdf.to_csv('data/trs_mnt-2021.csv')"
   ]
  },
  {
   "cell_type": "markdown",
   "id": "7ab03829",
   "metadata": {},
   "source": [
    "## Market + Earnings Data Merge"
   ]
  },
  {
   "cell_type": "code",
   "execution_count": 229,
   "id": "ec9f7d22",
   "metadata": {},
   "outputs": [],
   "source": [
    "hrl20 = pd.read_csv('data/source/hrl_2020.csv')\n",
    "related = hrl20['related'].apply(lambda x: x.split(':')[1] if len(x.split(':')) > 1 else x.split(':')[0])\n",
    "hrl20.loc[:,'related'] = related\n",
    "hrl20.loc[:,'date'] = pd.to_datetime(hrl20['date'])\n",
    "hrl20['month'] = hrl20['date'].apply(lambda x:str(x.month).zfill(2) + '-' + '2020' )\n",
    "\n",
    "hrl_mnt20 = pd.read_csv('data/source/hrl_mnt-2020.csv')\n",
    "hrl_mnt20 = hrl_mnt20.rename(columns = {'Unnamed: 0':'date'})\n",
    "htl_mnt20 = hrl_mnt20.drop(columns = ['intraperiod', 'frequency', 'fifty_two_week_high',\n",
    "                                      'fifty_two_week_low', 'factor', 'split_ratio', 'dividend'])\n",
    "htl_mnt20.loc[:,'date'] = pd.to_datetime(htl_mnt20['date'])\n",
    "htl_mnt20['month'] = htl_mnt20['date'].apply(lambda x:str(x.month).zfill(2) + '-' + '2020' )\n",
    "\n",
    "hrl21 = pd.read_csv('data/source/hrl_2021.csv')\n",
    "related = hrl21['related'].apply(lambda x: x.split(':')[1] if len(x.split(':')) > 1 else x.split(':')[0])\n",
    "hrl21.loc[:,'related'] = related\n",
    "hrl21.loc[:,'date'] = pd.to_datetime(hrl21['date'])\n",
    "hrl21['month'] = hrl21['date'].apply(lambda x:str(x.month).zfill(2) + '-' + '2020' )\n",
    "\n",
    "hrl_mnt21 = pd.read_csv('data/source/hrl_mnt-2021.csv')\n",
    "hrl_mnt21 = hrl_mnt21.rename(columns = {'Unnamed: 0':'date'})\n",
    "htl_mnt21 = hrl_mnt21.drop(columns = ['intraperiod', 'frequency', 'fifty_two_week_high',\n",
    "                                      'fifty_two_week_low', 'factor', 'split_ratio', 'dividend'])\n",
    "htl_mnt21.loc[:,'date'] = pd.to_datetime(htl_mnt21['date'])\n",
    "htl_mnt21['month'] = htl_mnt21['date'].apply(lambda x:str(x.month).zfill(2) + '-' + '2020' )"
   ]
  },
  {
   "cell_type": "code",
   "execution_count": 230,
   "id": "3cb743d4",
   "metadata": {},
   "outputs": [
    {
     "data": {
      "text/plain": [
       "(310, 17)"
      ]
     },
     "execution_count": 230,
     "metadata": {},
     "output_type": "execute_result"
    }
   ],
   "source": [
    "bind = []\n",
    "for sec in hrl20['related'].unique():\n",
    "    dfco = hrl20[hrl20['related'] == sec]\n",
    "    dfmnt = htl_mnt20[htl_mnt20['secid'] == sec]\n",
    "    if dfmnt.shape[0] > 1:\n",
    "        dfco = dfco.merge(dfmnt, on = 'month')\n",
    "        dfco = dfco.drop(columns = ['secid', 'month', 'doc_type', 'link'])\n",
    "        dfco = dfco.rename(columns = {'date_x':'date_earnings', 'date_y':'date_market'})\n",
    "        dfco = dfco[['date_earnings', 'date_market', 'time', 'related', 'company',\n",
    "                     'speakers_info', 'speakers_transcript',\n",
    "                     'speakers_number', 'corpus', 'adj_open', 'adj_high', 'adj_low',\n",
    "                     'adj_close', 'adj_volume', 'change', 'percent_change']]\n",
    "        dfco = dfco.sort_values(by = 'date_earnings')\n",
    "        dfco['direction'] = dfco['percent_change'].apply(lambda x: 'positive' if x>0 else 'negative')        \n",
    "        bind.append(dfco)\n",
    "hrl20_df = pd.concat(bind)\n",
    "hrl20_df.shape"
   ]
  },
  {
   "cell_type": "code",
   "execution_count": 231,
   "id": "47c030d6",
   "metadata": {},
   "outputs": [
    {
     "data": {
      "text/plain": [
       "(309, 17)"
      ]
     },
     "execution_count": 231,
     "metadata": {},
     "output_type": "execute_result"
    }
   ],
   "source": [
    "bind = []\n",
    "for sec in hrl21['related'].unique():\n",
    "    dfco = hrl21[hrl21['related'] == sec]\n",
    "    dfmnt = htl_mnt21[htl_mnt21['secid'] == sec]\n",
    "    if dfmnt.shape[0] > 1:\n",
    "        dfco = dfco.merge(dfmnt, on = 'month')\n",
    "        dfco = dfco.drop(columns = ['secid', 'month', 'doc_type', 'link'])\n",
    "        dfco = dfco.rename(columns = {'date_x':'date_earnings', 'date_y':'date_market'})\n",
    "        dfco = dfco[['date_earnings', 'date_market', 'time', 'related', 'company',\n",
    "                     'speakers_info', 'speakers_transcript',\n",
    "                     'speakers_number', 'corpus', 'adj_open', 'adj_high', 'adj_low',\n",
    "                     'adj_close', 'adj_volume', 'change', 'percent_change']]\n",
    "        dfco = dfco.sort_values(by = 'date_earnings')\n",
    "        dfco['direction'] = dfco['percent_change'].apply(lambda x: 'positive' if x>0 else 'negative')        \n",
    "        bind.append(dfco)\n",
    "hrl21_df = pd.concat(bind)\n",
    "hrl21_df.shape"
   ]
  },
  {
   "cell_type": "code",
   "execution_count": 232,
   "id": "0e7bb970",
   "metadata": {},
   "outputs": [],
   "source": [
    "trs20 = pd.read_csv('data/source/trs_2020.csv')\n",
    "related = trs20['related'].apply(lambda x: x.split(':')[1] if len(x.split(':')) > 1 else x.split(':')[0])\n",
    "trs20.loc[:,'related'] = related\n",
    "trs20.loc[:,'date'] = pd.to_datetime(trs20['date'])\n",
    "trs20['month'] = trs20['date'].apply(lambda x:str(x.month).zfill(2) + '-' + '2020' )\n",
    "\n",
    "trs_mnt20 = pd.read_csv('data/source/trs_mnt-2020.csv')\n",
    "trs_mnt20 = trs_mnt20.rename(columns = {'Unnamed: 0':'date'})\n",
    "trs_mnt20 = trs_mnt20.drop(columns = ['intraperiod', 'frequency', 'fifty_two_week_high',\n",
    "                                      'fifty_two_week_low', 'factor', 'split_ratio', 'dividend'])\n",
    "trs_mnt20.loc[:,'date'] = pd.to_datetime(trs_mnt20['date'])\n",
    "trs_mnt20['month'] = trs_mnt20['date'].apply(lambda x:str(x.month).zfill(2) + '-' + '2020' )\n",
    "\n",
    "trs21 = pd.read_csv('data/source/trs_2021.csv')\n",
    "related = trs21['related'].apply(lambda x: x.split(':')[1] if len(x.split(':')) > 1 else x.split(':')[0])\n",
    "trs21.loc[:,'related'] = related\n",
    "trs21.loc[:,'date'] = pd.to_datetime(trs21['date'])\n",
    "trs21['month'] = trs21['date'].apply(lambda x:str(x.month).zfill(2) + '-' + '2020' )\n",
    "\n",
    "trs_mnt21 = pd.read_csv('data/source/trs_mnt-2021.csv')\n",
    "trs_mnt21 = trs_mnt21.rename(columns = {'Unnamed: 0':'date'})\n",
    "trs_mnt21 = trs_mnt21.drop(columns = ['intraperiod', 'frequency', 'fifty_two_week_high',\n",
    "                                      'fifty_two_week_low', 'factor', 'split_ratio', 'dividend'])\n",
    "trs_mnt21.loc[:,'date'] = pd.to_datetime(trs_mnt21['date'])\n",
    "trs_mnt21['month'] = trs_mnt21['date'].apply(lambda x:str(x.month).zfill(2) + '-' + '2020' )"
   ]
  },
  {
   "cell_type": "code",
   "execution_count": 233,
   "id": "cdfa8e68",
   "metadata": {},
   "outputs": [
    {
     "data": {
      "text/plain": [
       "(220, 17)"
      ]
     },
     "execution_count": 233,
     "metadata": {},
     "output_type": "execute_result"
    }
   ],
   "source": [
    "bind = []\n",
    "for sec in trs20['related'].unique():\n",
    "    dfco = trs20[trs20['related'] == sec]\n",
    "    dfmnt = trs_mnt20[trs_mnt20['secid'] == sec]\n",
    "    if dfmnt.shape[0] > 1:\n",
    "        dfco = dfco.merge(dfmnt, on = 'month')\n",
    "        dfco = dfco.drop(columns = ['secid', 'month', 'doc_type', 'link'])\n",
    "        dfco = dfco.rename(columns = {'date_x':'date_earnings', 'date_y':'date_market'})\n",
    "        dfco = dfco[['date_earnings', 'date_market', 'time', 'related', 'company',\n",
    "                     'speakers_info', 'speakers_transcript',\n",
    "                     'speakers_number', 'corpus', 'adj_open', 'adj_high', 'adj_low',\n",
    "                     'adj_close', 'adj_volume', 'change', 'percent_change']]\n",
    "        dfco = dfco.sort_values(by = 'date_earnings')\n",
    "        dfco['direction'] = dfco['percent_change'].apply(lambda x: 'positive' if x>0 else 'negative')        \n",
    "        bind.append(dfco)\n",
    "trs20_df = pd.concat(bind)\n",
    "trs20_df.shape"
   ]
  },
  {
   "cell_type": "code",
   "execution_count": 234,
   "id": "e8fe849c",
   "metadata": {},
   "outputs": [
    {
     "data": {
      "text/plain": [
       "(220, 17)"
      ]
     },
     "execution_count": 234,
     "metadata": {},
     "output_type": "execute_result"
    }
   ],
   "source": [
    "bind = []\n",
    "for sec in trs21['related'].unique():\n",
    "    dfco = trs21[trs21['related'] == sec]\n",
    "    dfmnt = trs_mnt21[trs_mnt21['secid'] == sec]\n",
    "    if dfmnt.shape[0] > 1:\n",
    "        dfco = dfco.merge(dfmnt, on = 'month')\n",
    "        dfco = dfco.drop(columns = ['secid', 'month', 'doc_type', 'link'])\n",
    "        dfco = dfco.rename(columns = {'date_x':'date_earnings', 'date_y':'date_market'})\n",
    "        dfco = dfco[['date_earnings', 'date_market', 'time', 'related', 'company',\n",
    "                     'speakers_info', 'speakers_transcript',\n",
    "                     'speakers_number', 'corpus', 'adj_open', 'adj_high', 'adj_low',\n",
    "                     'adj_close', 'adj_volume', 'change', 'percent_change']]\n",
    "        dfco = dfco.sort_values(by = 'date_earnings')\n",
    "        dfco['direction'] = dfco['percent_change'].apply(lambda x: 'positive' if x>0 else 'negative')        \n",
    "        bind.append(dfco)\n",
    "trs21_df = pd.concat(bind)\n",
    "trs21_df.shape"
   ]
  },
  {
   "cell_type": "code",
   "execution_count": 237,
   "id": "94df3641",
   "metadata": {},
   "outputs": [],
   "source": [
    "hrl20_df.to_csv('data/hrl_mrk20.csv', index = False, doublequote = True)\n",
    "hrl21_df.to_csv('data/hrl_mrk21.csv', index = False, doublequote = True)\n",
    "trs20_df.to_csv('data/trs_mrk20.csv', index = False, doublequote = True)\n",
    "trs21_df.to_csv('data/trs_mrk21.csv', index = False, doublequote = True)"
   ]
  }
 ],
 "metadata": {
  "kernelspec": {
   "display_name": "Python 3 (ipykernel)",
   "language": "python",
   "name": "python3"
  },
  "language_info": {
   "codemirror_mode": {
    "name": "ipython",
    "version": 3
   },
   "file_extension": ".py",
   "mimetype": "text/x-python",
   "name": "python",
   "nbconvert_exporter": "python",
   "pygments_lexer": "ipython3",
   "version": "3.9.9"
  }
 },
 "nbformat": 4,
 "nbformat_minor": 5
}
