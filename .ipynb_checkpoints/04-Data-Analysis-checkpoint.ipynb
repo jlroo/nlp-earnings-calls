{
 "cells": [
  {
   "cell_type": "markdown",
   "id": "ac9f0b1e",
   "metadata": {},
   "source": [
    "# Data Analysis\n",
    "\n",
    "### Text Mining on Earnings Calls during a Pandemic as a Means to Predict End-Of-The-Month Stock Performances\n",
    "####  Olin School of Business <br> Jose Luis Rodriguez  <br> jlr@wustl.edu <br> Fall 2021"
   ]
  },
  {
   "cell_type": "code",
   "execution_count": 150,
   "id": "d4ad2fdd",
   "metadata": {},
   "outputs": [],
   "source": [
    "import matplotlib.pyplot as plt\n",
    "import seaborn as sns\n",
    "import pandas as pd"
   ]
  },
  {
   "cell_type": "markdown",
   "id": "07866926",
   "metadata": {},
   "source": [
    "## Hotels, Restaurants and Leasure Stocks Tickers"
   ]
  },
  {
   "cell_type": "code",
   "execution_count": 151,
   "id": "7d2e8052",
   "metadata": {},
   "outputs": [],
   "source": [
    "hrl20 = pd.read_csv('data/hrl_mrk20.csv')\n",
    "hrl21 = pd.read_csv('data/hrl_mrk21.csv')"
   ]
  },
  {
   "cell_type": "code",
   "execution_count": 174,
   "id": "4a008949",
   "metadata": {},
   "outputs": [
    {
     "name": "stdout",
     "output_type": "stream",
     "text": [
      "DATA STATS\n",
      "\n",
      "----- 2020 -----\n",
      "shape: (310,17)\n",
      "corpus_size: 26821\n",
      "\n",
      "----- 2021 -----\n",
      "shape: (309,17)\n",
      "corpus_size: 28898\n"
     ]
    }
   ],
   "source": [
    "size = []\n",
    "for n in range(hrl20.shape[0]):\n",
    "    cps = hrl20.iloc[n]['corpus']\n",
    "    cps = [i.strip() for i in cps.split('\\n') if i.strip() != '']\n",
    "    size.extend(cps)\n",
    "size = len(size)\n",
    "rows = len(hrl20['related'])\n",
    "cols = 17\n",
    "d1 = 'shape: ' + '(' + str(rows) + ',' + str(cols) + ')' + '\\ncorpus_size: ' + str(size)\n",
    "\n",
    "size = []\n",
    "for n in range(hrl21.shape[0]):\n",
    "    cps = hrl21.iloc[n]['corpus']\n",
    "    cps = [i.strip() for i in cps.split('\\n') if i.strip() != '']\n",
    "    size.extend(cps)\n",
    "size = len(size)\n",
    "rows = len(hrl21['related'])\n",
    "cols = 17\n",
    "d2 = 'shape: ' + '(' + str(rows) + ',' + str(cols) + ')' + '\\ncorpus_size: ' + str(size)\n",
    "\n",
    "print(\"DATA STATS\" + '\\n')\n",
    "print(\"----- 2020 -----\")\n",
    "print(d1 + '\\n')\n",
    "print(\"----- 2021 -----\")\n",
    "print(d2)"
   ]
  },
  {
   "cell_type": "code",
   "execution_count": 154,
   "id": "6083f1cd",
   "metadata": {},
   "outputs": [],
   "source": [
    "hrl20['date_market'] = pd.to_datetime(hrl20['date_market'])\n",
    "hrl20['month_market'] = hrl20['date_market'].apply(lambda i:str(i.month).zfill(2) + '-2020')\n",
    "hrl21['date_market'] = pd.to_datetime(hrl21['date_market'])\n",
    "hrl21['month_market'] = hrl21['date_market'].apply(lambda i:str(i.month).zfill(2) + '-2021')"
   ]
  },
  {
   "cell_type": "code",
   "execution_count": 155,
   "id": "6f1fad11",
   "metadata": {},
   "outputs": [],
   "source": [
    "month_df = pd.DataFrame({'count':hrl20.groupby(['month_market','direction'])['direction'].count()}).reset_index()\n",
    "fig, ax = plt.subplots(figsize=(12, 7))\n",
    "sns.barplot(data=month_df, y='count', x='month_market', hue='direction')\n",
    "ax.set_xticklabels(ax.get_xticklabels(), rotation=45)\n",
    "plt.title('Accumulated Stock Direction by Month')\n",
    "plt.xlabel('Month-Year')\n",
    "plt.xlabel('Count')\n",
    "plt.savefig('imgs/hrl20/hrl-sent-20.png')\n",
    "plt.close()"
   ]
  },
  {
   "cell_type": "code",
   "execution_count": 156,
   "id": "bc254f66",
   "metadata": {},
   "outputs": [],
   "source": [
    "month_df = pd.DataFrame({'count':hrl21.groupby(['month_market','direction'])['direction'].count()}).reset_index()\n",
    "fig, ax = plt.subplots(figsize=(12, 7))\n",
    "sns.barplot(data=month_df, y='count', x='month_market', hue='direction')\n",
    "ax.set_xticklabels(ax.get_xticklabels(), rotation=45)\n",
    "plt.title('Accumulated Stock Direction by Month')\n",
    "plt.xlabel('Month-Year')\n",
    "plt.xlabel('Count')\n",
    "plt.savefig('imgs/hrl21/hrl-sent-21.png')\n",
    "plt.close()"
   ]
  },
  {
   "cell_type": "code",
   "execution_count": 160,
   "id": "17e13796",
   "metadata": {},
   "outputs": [],
   "source": [
    "for secid in hrl20['related'].unique():\n",
    "    p = hrl20[hrl20['related'] == secid][['date_market','change','company']].reset_index(drop=True)\n",
    "    fig, ax = plt.subplots(figsize=(12, 7))\n",
    "    ax.bar(p['date_market'], p['change'])\n",
    "    ax.set_ylabel('Price Change')\n",
    "    ax.set_title(p['company'][0])\n",
    "    plt.savefig( 'imgs/hrl20/' + secid + '-hrl-20.png')\n",
    "    plt.close()"
   ]
  },
  {
   "cell_type": "code",
   "execution_count": 161,
   "id": "e37c8e7c",
   "metadata": {},
   "outputs": [],
   "source": [
    "for secid in hrl21['related'].unique():\n",
    "    p = hrl21[hrl21['related'] == secid][['date_market','change','company']].reset_index(drop=True)\n",
    "    fig, ax = plt.subplots(figsize=(12, 7))\n",
    "    ax.bar(p['date_market'], p['change'])\n",
    "    ax.set_ylabel('Price Change')\n",
    "    ax.set_title(p['company'][0])\n",
    "    plt.savefig( 'imgs/hrl21/' + secid + '-hrl-21.png')\n",
    "    plt.close()"
   ]
  },
  {
   "cell_type": "markdown",
   "id": "0f07351f",
   "metadata": {},
   "source": [
    "## Industrials - Transportation"
   ]
  },
  {
   "cell_type": "code",
   "execution_count": 50,
   "id": "5c2138cd",
   "metadata": {},
   "outputs": [],
   "source": [
    "trs20 = pd.read_csv('data/trs_mrk20.csv')\n",
    "trs21 = pd.read_csv('data/trs_mrk20.csv')"
   ]
  },
  {
   "cell_type": "code",
   "execution_count": 157,
   "id": "87187518",
   "metadata": {},
   "outputs": [],
   "source": [
    "trs20['date_market'] = pd.to_datetime(trs20['date_market'])\n",
    "trs20['month_market'] = trs20['date_market'].apply(lambda i:str(i.month).zfill(2) + '-2020')\n",
    "trs21['date_market'] = pd.to_datetime(trs21['date_market'])\n",
    "trs21['month_market'] = trs21['date_market'].apply(lambda i:str(i.month).zfill(2) + '-2021')"
   ]
  },
  {
   "cell_type": "code",
   "execution_count": 175,
   "id": "499f7a32",
   "metadata": {},
   "outputs": [
    {
     "name": "stdout",
     "output_type": "stream",
     "text": [
      "DATA STATS\n",
      "\n",
      "----- 2020 -----\n",
      "shape: (220,17)\n",
      "corpus_size: 12307\n",
      "\n",
      "----- 2021 -----\n",
      "shape: (220,17)\n",
      "corpus_size: 12307\n"
     ]
    }
   ],
   "source": [
    "size = []\n",
    "for n in range(trs20.shape[0]):\n",
    "    cps = trs20.iloc[n]['corpus']\n",
    "    cps = [i.strip() for i in cps.split('\\n') if i.strip() != '']\n",
    "    size.extend(cps)\n",
    "size = len(size)\n",
    "rows = len(trs20['related'])\n",
    "cols = 17\n",
    "d1 = 'shape: ' + '(' + str(rows) + ',' + str(cols) + ')' + '\\ncorpus_size: ' + str(size)\n",
    "\n",
    "size = []\n",
    "for n in range(trs21.shape[0]):\n",
    "    cps = trs21.iloc[n]['corpus']\n",
    "    cps = [i.strip() for i in cps.split('\\n') if i.strip() != '']\n",
    "    size.extend(cps)\n",
    "size = len(size)\n",
    "rows = len(trs21['related'])\n",
    "cols = 17\n",
    "d2 = 'shape: ' + '(' + str(rows) + ',' + str(cols) + ')' + '\\ncorpus_size: ' + str(size)\n",
    "\n",
    "print(\"DATA STATS\" + '\\n')\n",
    "print(\"----- 2020 -----\")\n",
    "print(d1 + '\\n')\n",
    "print(\"----- 2021 -----\")\n",
    "print(d2)"
   ]
  },
  {
   "cell_type": "code",
   "execution_count": 158,
   "id": "481bc594",
   "metadata": {},
   "outputs": [],
   "source": [
    "month_df = pd.DataFrame({'count':trs20.groupby(['month_market','direction'])['direction'].count()}).reset_index()\n",
    "fig, ax = plt.subplots(figsize=(12, 7))\n",
    "sns.barplot(data=month_df, y='count', x='month_market', hue='direction')\n",
    "ax.set_xticklabels(ax.get_xticklabels(), rotation=45)\n",
    "plt.title('Accumulated Stock Direction by Month')\n",
    "plt.xlabel('Month-Year')\n",
    "plt.xlabel('Count')\n",
    "plt.savefig('imgs/trs20/trs20-sent-20.png')\n",
    "plt.close()"
   ]
  },
  {
   "cell_type": "code",
   "execution_count": 159,
   "id": "dddde2e8",
   "metadata": {},
   "outputs": [],
   "source": [
    "month_df = pd.DataFrame({'count':trs21.groupby(['month_market','direction'])['direction'].count()}).reset_index()\n",
    "fig, ax = plt.subplots(figsize=(12, 7))\n",
    "sns.barplot(data=month_df, y='count', x='month_market', hue='direction')\n",
    "ax.set_xticklabels(ax.get_xticklabels(), rotation=45)\n",
    "plt.title('Accumulated Stock Direction by Month')\n",
    "plt.xlabel('Month-Year')\n",
    "plt.xlabel('Count')\n",
    "plt.savefig('imgs/trs21/trs21-sent-21.png')\n",
    "plt.close()"
   ]
  },
  {
   "cell_type": "code",
   "execution_count": 51,
   "id": "029a5f9c",
   "metadata": {},
   "outputs": [],
   "source": [
    "for secid in trs20['related'].unique():\n",
    "    p = trs20[trs20['related'] == secid][['date_market','change','company']].reset_index(drop=True)\n",
    "    fig, ax = plt.subplots(figsize=(12, 7))\n",
    "    ax.bar(p['date_market'], p['change'])\n",
    "    ax.set_ylabel('Price Change')\n",
    "    ax.set_title(p['company'][0])\n",
    "    plt.savefig( 'imgs/trs20/' + secid + '-trs-20.png')\n",
    "    plt.close()"
   ]
  },
  {
   "cell_type": "code",
   "execution_count": 52,
   "id": "83b3a63b",
   "metadata": {},
   "outputs": [],
   "source": [
    "for secid in trs21['related'].unique():\n",
    "    p = trs21[trs21['related'] == secid][['date_market','change','company']].reset_index(drop=True)\n",
    "    fig, ax = plt.subplots(figsize=(12, 7))\n",
    "    ax.bar(p['date_market'], p['change'])\n",
    "    ax.set_ylabel('Price Change')\n",
    "    ax.set_title(p['company'][0])\n",
    "    plt.savefig( 'imgs/trs21/' + secid + '-trs-21.png')\n",
    "    plt.close()"
   ]
  }
 ],
 "metadata": {
  "kernelspec": {
   "display_name": "Python 3 (ipykernel)",
   "language": "python",
   "name": "python3"
  },
  "language_info": {
   "codemirror_mode": {
    "name": "ipython",
    "version": 3
   },
   "file_extension": ".py",
   "mimetype": "text/x-python",
   "name": "python",
   "nbconvert_exporter": "python",
   "pygments_lexer": "ipython3",
   "version": "3.8.11"
  }
 },
 "nbformat": 4,
 "nbformat_minor": 5
}
