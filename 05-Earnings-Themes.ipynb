{
 "cells": [
  {
   "cell_type": "markdown",
   "metadata": {},
   "source": [
    "# Earnings Calls - Topic Modeling\n",
    "\n",
    "### Text Mining on Earnings Calls during a Pandemic as a Means to Predict End-Of-The-Month Stock Performances\n",
    "####  Olin School of Business <br> Jose Luis Rodriguez  <br> jlr@wustl.edu <br> Fall 2021"
   ]
  },
  {
   "cell_type": "code",
   "execution_count": 1,
   "metadata": {},
   "outputs": [],
   "source": [
    "import sys\n",
    "import nltk\n",
    "import numpy as np\n",
    "import pandas as pd\n",
    "from sklearn import metrics\n",
    "from sklearn.feature_extraction.text import  CountVectorizer #bag-of-words vectorizer \n",
    "from sklearn.decomposition import LatentDirichletAllocation #package for LDA"
   ]
  },
  {
   "cell_type": "code",
   "execution_count": 2,
   "metadata": {},
   "outputs": [],
   "source": [
    "# Plotting tools\n",
    "import pyLDAvis\n",
    "import pyLDAvis.sklearn\n",
    "\n",
    "import matplotlib.pyplot as plt"
   ]
  },
  {
   "cell_type": "code",
   "execution_count": 3,
   "metadata": {},
   "outputs": [
    {
     "name": "stderr",
     "output_type": "stream",
     "text": [
      "[nltk_data] Downloading package stopwords to /Users/jlroo/nltk_data...\n",
      "[nltk_data]   Package stopwords is already up-to-date!\n",
      "[nltk_data] Downloading package punkt to /Users/jlroo/nltk_data...\n",
      "[nltk_data]   Package punkt is already up-to-date!\n",
      "[nltk_data] Downloading package averaged_perceptron_tagger to\n",
      "[nltk_data]     /Users/jlroo/nltk_data...\n",
      "[nltk_data]   Package averaged_perceptron_tagger is already up-to-\n",
      "[nltk_data]       date!\n",
      "[nltk_data] Downloading package wordnet to /Users/jlroo/nltk_data...\n",
      "[nltk_data]   Package wordnet is already up-to-date!\n"
     ]
    }
   ],
   "source": [
    "%%capture\n",
    "#define text normalization function\n",
    "%run ./'02-Normalization.ipynb' #defining text normalization function"
   ]
  },
  {
   "cell_type": "code",
   "execution_count": 4,
   "metadata": {},
   "outputs": [],
   "source": [
    "def display_topics(model, feature_names, no_top_words):\n",
    "    for topic_idx, topic in enumerate(model.components_):\n",
    "        print(\"Topic %d:\" % (topic_idx))\n",
    "        print(\" \".join([feature_names[i]\n",
    "                        for i in topic.argsort()[:-no_top_words - 1:-1]]))\n",
    "        \n",
    "def get_topic_words(vectorizer, lda_model, n_words):\n",
    "    keywords = np.array(vectorizer.get_feature_names())\n",
    "    topic_words = []\n",
    "    for topic_weights in lda_model.components_:\n",
    "        top_word_locs = (-topic_weights).argsort()[:n_words]\n",
    "        topic_words.append(keywords.take(top_word_locs).tolist())\n",
    "    return topic_words"
   ]
  },
  {
   "cell_type": "markdown",
   "metadata": {},
   "source": [
    "### Hotels, Restaurants and Leisure"
   ]
  },
  {
   "cell_type": "code",
   "execution_count": 6,
   "metadata": {},
   "outputs": [],
   "source": [
    "def earnings_lda(segment, max_features = 1000, components = 4, topic_prior = 0.1, word_prior = 0.1):\n",
    "    bow_vectorizer = CountVectorizer(max_features = max_features)\n",
    "    for secid in segment['related'].unique():\n",
    "        data = segment[segment['related'] == secid]\n",
    "        corpus = []\n",
    "        for n in range(data.shape[0]):\n",
    "            cdata = data.iloc[n].to_dict()\n",
    "            corpus.extend([i.strip() for i in cdata.split('\\n') if i.strip() != ''])\n",
    "        normalized_corpus = normalize_corpus(corpus)\n",
    "        bow_corpus = bow_vectorizer.fit_transform(normalized_corpus)\n",
    "        lda_corpus = LatentDirichletAllocation(n_components = components,\n",
    "                                               max_iter = 100,\n",
    "                                               doc_topic_prior = topic_prior,\n",
    "                                               topic_word_prior = word_prior).fit(bow_corpus)\n",
    "        lda_topic_weights = lda_corpus.transform(bow_corpus)\n",
    "        doc_names = [\"Doc_\" + str(i) for i in range(len(normalized_corpus))]\n",
    "        topic_names = [\"Topic_\" + str(i) for i in range(components)]\n",
    "        topic_df = pd.DataFrame(np.round(lda_topic_weights, components),\n",
    "                                 columns = topic_names,\n",
    "                                 index = doc_names)\n",
    "        topic_df['secid'] = secid\n",
    "        topic_df['direction'] = cdata['direction']\n",
    "        topic_df['date_market'] = cdata['date_market']\n",
    "        topic_df['speakers_number'] = cdata['speakers_number']\n",
    "        topic_df['percent_change'] = cdata['percent_change']\n",
    "        return topic_df"
   ]
  },
  {
   "cell_type": "code",
   "execution_count": 7,
   "metadata": {},
   "outputs": [],
   "source": [
    "hrl_df = pd.read_csv('data/hrl_mrk21.csv')\n",
    "hrl_df['date_market'] = pd.to_datetime(hrl_df['date_market'])\n",
    "hrl_df['market_month'] = hrl_df['date_market'].apply(lambda i:str(i.month).zfill(2) + '-2021')"
   ]
  },
  {
   "cell_type": "code",
   "execution_count": null,
   "metadata": {},
   "outputs": [],
   "source": [
    "hrl_company_topics = earnings_lda(hrl_df)"
   ]
  },
  {
   "cell_type": "markdown",
   "metadata": {},
   "source": [
    "## Monthly Earnings Calls Topics"
   ]
  },
  {
   "cell_type": "code",
   "execution_count": 18,
   "metadata": {},
   "outputs": [
    {
     "data": {
      "text/html": [
       "<div>\n",
       "<style scoped>\n",
       "    .dataframe tbody tr th:only-of-type {\n",
       "        vertical-align: middle;\n",
       "    }\n",
       "\n",
       "    .dataframe tbody tr th {\n",
       "        vertical-align: top;\n",
       "    }\n",
       "\n",
       "    .dataframe thead th {\n",
       "        text-align: right;\n",
       "    }\n",
       "</style>\n",
       "<table border=\"1\" class=\"dataframe\">\n",
       "  <thead>\n",
       "    <tr style=\"text-align: right;\">\n",
       "      <th></th>\n",
       "      <th>market_month</th>\n",
       "      <th>net_change</th>\n",
       "      <th>market</th>\n",
       "    </tr>\n",
       "  </thead>\n",
       "  <tbody>\n",
       "    <tr>\n",
       "      <th>0</th>\n",
       "      <td>01-2021</td>\n",
       "      <td>-2.0</td>\n",
       "      <td>negative</td>\n",
       "    </tr>\n",
       "    <tr>\n",
       "      <th>1</th>\n",
       "      <td>02-2021</td>\n",
       "      <td>31.0</td>\n",
       "      <td>positive</td>\n",
       "    </tr>\n",
       "    <tr>\n",
       "      <th>2</th>\n",
       "      <td>03-2021</td>\n",
       "      <td>6.0</td>\n",
       "      <td>positive</td>\n",
       "    </tr>\n",
       "    <tr>\n",
       "      <th>3</th>\n",
       "      <td>04-2021</td>\n",
       "      <td>20.0</td>\n",
       "      <td>positive</td>\n",
       "    </tr>\n",
       "    <tr>\n",
       "      <th>4</th>\n",
       "      <td>05-2021</td>\n",
       "      <td>-9.0</td>\n",
       "      <td>negative</td>\n",
       "    </tr>\n",
       "    <tr>\n",
       "      <th>5</th>\n",
       "      <td>07-2021</td>\n",
       "      <td>6.0</td>\n",
       "      <td>positive</td>\n",
       "    </tr>\n",
       "    <tr>\n",
       "      <th>6</th>\n",
       "      <td>08-2021</td>\n",
       "      <td>17.0</td>\n",
       "      <td>positive</td>\n",
       "    </tr>\n",
       "    <tr>\n",
       "      <th>7</th>\n",
       "      <td>09-2021</td>\n",
       "      <td>-11.0</td>\n",
       "      <td>negative</td>\n",
       "    </tr>\n",
       "    <tr>\n",
       "      <th>8</th>\n",
       "      <td>10-2021</td>\n",
       "      <td>7.0</td>\n",
       "      <td>positive</td>\n",
       "    </tr>\n",
       "    <tr>\n",
       "      <th>9</th>\n",
       "      <td>11-2021</td>\n",
       "      <td>2.0</td>\n",
       "      <td>positive</td>\n",
       "    </tr>\n",
       "  </tbody>\n",
       "</table>\n",
       "</div>"
      ],
      "text/plain": [
       "  market_month  net_change    market\n",
       "0      01-2021        -2.0  negative\n",
       "1      02-2021        31.0  positive\n",
       "2      03-2021         6.0  positive\n",
       "3      04-2021        20.0  positive\n",
       "4      05-2021        -9.0  negative\n",
       "5      07-2021         6.0  positive\n",
       "6      08-2021        17.0  positive\n",
       "7      09-2021       -11.0  negative\n",
       "8      10-2021         7.0  positive\n",
       "9      11-2021         2.0  positive"
      ]
     },
     "execution_count": 18,
     "metadata": {},
     "output_type": "execute_result"
    }
   ],
   "source": [
    "netd = pd.DataFrame({'count':hrl_df.groupby(['market_month','direction'])['direction'].count()}).reset_index()\n",
    "neg = netd[netd['direction'] == 'negative'].reset_index(drop=True)\n",
    "direction = netd[netd['direction'] == 'positive'].reset_index(drop=True)\n",
    "direction['net_change'] = (direction['count'] - neg['count']).reset_index(drop=True)\n",
    "direction['market'] = direction['net_change'].apply(lambda i:'negative' if  i< 0 else 'positive')   \n",
    "direction = direction[['market_month','net_change','market']]"
   ]
  },
  {
   "cell_type": "code",
   "execution_count": 94,
   "metadata": {},
   "outputs": [],
   "source": [
    "month_lda = []\n",
    "components = 4\n",
    "for month in hrl_df['market_month'].unique():\n",
    "    mdata = hrl_df[hrl_df['market_month'] == month].copy(deep=True)\n",
    "    market = direction[direction['market_month'] == month]['market']\n",
    "    net_change = direction[direction['market_month'] == month]['net_change']\n",
    "    cps = []\n",
    "    for n in range(mdata.shape[0]):\n",
    "        cdata = mdata.iloc[n].to_dict()\n",
    "        corpus = cdata['corpus']\n",
    "        cps.extend([i.strip() for i in corpus.split('\\n') if i.strip() != ''])\n",
    "    normalized_corpus = normalize_corpus(cps)\n",
    "    bow_vectorizer = CountVectorizer(max_features=2000)\n",
    "    bow_corpus = bow_vectorizer.fit_transform(normalized_corpus)\n",
    "    lda_corpus = LatentDirichletAllocation(n_components = components,\n",
    "                                           max_iter = 100,\n",
    "                                           doc_topic_prior = 0.2,\n",
    "                                           topic_word_prior = 0.2).fit(bow_corpus)\n",
    "    word_weights = lda_corpus.components_ / lda_corpus.components_.sum(axis=1)[:, np.newaxis]\n",
    "    word_weights_df = pd.DataFrame(word_weights.T, \n",
    "                                   index = bow_vectorizer.get_feature_names(), \n",
    "                                   columns = [\"Topic_\" + str(i) for i in range(components)])\n",
    "    word_weights_df = word_weights_df.sort_values(by = 'Topic_0', ascending = False)\n",
    "    word_weights_df.loc[:,'signal'] = market.to_string(header=False, index=False)\n",
    "    word_weights_df.loc[:,'month'] = month\n",
    "    word_weights_df.loc[:,'net_change'] = net_change.to_string(header=False, index=False)    \n",
    "    month_lda.append(word_weights_df)"
   ]
  },
  {
   "cell_type": "code",
   "execution_count": 95,
   "metadata": {},
   "outputs": [],
   "source": [
    "words_df = pd.concat(month_words)\n",
    "words_df = words_df.reset_index()"
   ]
  },
  {
   "cell_type": "code",
   "execution_count": 99,
   "metadata": {},
   "outputs": [
    {
     "data": {
      "text/html": [
       "<div>\n",
       "<style scoped>\n",
       "    .dataframe tbody tr th:only-of-type {\n",
       "        vertical-align: middle;\n",
       "    }\n",
       "\n",
       "    .dataframe tbody tr th {\n",
       "        vertical-align: top;\n",
       "    }\n",
       "\n",
       "    .dataframe thead th {\n",
       "        text-align: right;\n",
       "    }\n",
       "</style>\n",
       "<table border=\"1\" class=\"dataframe\">\n",
       "  <thead>\n",
       "    <tr style=\"text-align: right;\">\n",
       "      <th></th>\n",
       "      <th>index</th>\n",
       "      <th>Topic_0</th>\n",
       "      <th>Topic_1</th>\n",
       "      <th>Topic_2</th>\n",
       "      <th>Topic_3</th>\n",
       "      <th>signal</th>\n",
       "      <th>month</th>\n",
       "      <th>net_change</th>\n",
       "    </tr>\n",
       "  </thead>\n",
       "  <tbody>\n",
       "    <tr>\n",
       "      <th>660</th>\n",
       "      <td>inflation</td>\n",
       "      <td>0.000007</td>\n",
       "      <td>0.005713</td>\n",
       "      <td>0.000011</td>\n",
       "      <td>0.000006</td>\n",
       "      <td>positive</td>\n",
       "      <td>11-2021</td>\n",
       "      <td>2.0</td>\n",
       "    </tr>\n",
       "    <tr>\n",
       "      <th>1956</th>\n",
       "      <td>inflation</td>\n",
       "      <td>0.000006</td>\n",
       "      <td>0.000869</td>\n",
       "      <td>0.001175</td>\n",
       "      <td>0.000012</td>\n",
       "      <td>positive</td>\n",
       "      <td>02-2021</td>\n",
       "      <td>31.0</td>\n",
       "    </tr>\n",
       "    <tr>\n",
       "      <th>2053</th>\n",
       "      <td>inflation</td>\n",
       "      <td>0.004321</td>\n",
       "      <td>0.000006</td>\n",
       "      <td>0.000014</td>\n",
       "      <td>0.000006</td>\n",
       "      <td>negative</td>\n",
       "      <td>05-2021</td>\n",
       "      <td>-9.0</td>\n",
       "    </tr>\n",
       "    <tr>\n",
       "      <th>3989</th>\n",
       "      <td>inflation</td>\n",
       "      <td>0.000007</td>\n",
       "      <td>0.000008</td>\n",
       "      <td>0.000019</td>\n",
       "      <td>0.004009</td>\n",
       "      <td>positive</td>\n",
       "      <td>08-2021</td>\n",
       "      <td>17.0</td>\n",
       "    </tr>\n",
       "    <tr>\n",
       "      <th>4917</th>\n",
       "      <td>inflation</td>\n",
       "      <td>0.000010</td>\n",
       "      <td>0.001240</td>\n",
       "      <td>0.000022</td>\n",
       "      <td>0.000410</td>\n",
       "      <td>positive</td>\n",
       "      <td>03-2021</td>\n",
       "      <td>6.0</td>\n",
       "    </tr>\n",
       "    <tr>\n",
       "      <th>6352</th>\n",
       "      <td>inflation</td>\n",
       "      <td>0.000583</td>\n",
       "      <td>0.000017</td>\n",
       "      <td>0.002372</td>\n",
       "      <td>0.000010</td>\n",
       "      <td>positive</td>\n",
       "      <td>04-2021</td>\n",
       "      <td>20.0</td>\n",
       "    </tr>\n",
       "    <tr>\n",
       "      <th>7656</th>\n",
       "      <td>inflation</td>\n",
       "      <td>0.000014</td>\n",
       "      <td>0.006957</td>\n",
       "      <td>0.000013</td>\n",
       "      <td>0.000021</td>\n",
       "      <td>positive</td>\n",
       "      <td>07-2021</td>\n",
       "      <td>6.0</td>\n",
       "    </tr>\n",
       "    <tr>\n",
       "      <th>8791</th>\n",
       "      <td>inflation</td>\n",
       "      <td>0.000020</td>\n",
       "      <td>0.000017</td>\n",
       "      <td>0.005862</td>\n",
       "      <td>0.003185</td>\n",
       "      <td>positive</td>\n",
       "      <td>10-2021</td>\n",
       "      <td>7.0</td>\n",
       "    </tr>\n",
       "    <tr>\n",
       "      <th>9704</th>\n",
       "      <td>inflation</td>\n",
       "      <td>0.000080</td>\n",
       "      <td>0.000072</td>\n",
       "      <td>0.002710</td>\n",
       "      <td>0.001497</td>\n",
       "      <td>Series([], )</td>\n",
       "      <td>06-2021</td>\n",
       "      <td>Series([], )</td>\n",
       "    </tr>\n",
       "    <tr>\n",
       "      <th>10138</th>\n",
       "      <td>inflation</td>\n",
       "      <td>0.002155</td>\n",
       "      <td>0.002425</td>\n",
       "      <td>0.008546</td>\n",
       "      <td>0.001088</td>\n",
       "      <td>negative</td>\n",
       "      <td>09-2021</td>\n",
       "      <td>-11.0</td>\n",
       "    </tr>\n",
       "  </tbody>\n",
       "</table>\n",
       "</div>"
      ],
      "text/plain": [
       "           index   Topic_0   Topic_1   Topic_2   Topic_3        signal  \\\n",
       "660    inflation  0.000007  0.005713  0.000011  0.000006      positive   \n",
       "1956   inflation  0.000006  0.000869  0.001175  0.000012      positive   \n",
       "2053   inflation  0.004321  0.000006  0.000014  0.000006      negative   \n",
       "3989   inflation  0.000007  0.000008  0.000019  0.004009      positive   \n",
       "4917   inflation  0.000010  0.001240  0.000022  0.000410      positive   \n",
       "6352   inflation  0.000583  0.000017  0.002372  0.000010      positive   \n",
       "7656   inflation  0.000014  0.006957  0.000013  0.000021      positive   \n",
       "8791   inflation  0.000020  0.000017  0.005862  0.003185      positive   \n",
       "9704   inflation  0.000080  0.000072  0.002710  0.001497  Series([], )   \n",
       "10138  inflation  0.002155  0.002425  0.008546  0.001088      negative   \n",
       "\n",
       "         month    net_change  \n",
       "660    11-2021           2.0  \n",
       "1956   02-2021          31.0  \n",
       "2053   05-2021          -9.0  \n",
       "3989   08-2021          17.0  \n",
       "4917   03-2021           6.0  \n",
       "6352   04-2021          20.0  \n",
       "7656   07-2021           6.0  \n",
       "8791   10-2021           7.0  \n",
       "9704   06-2021  Series([], )  \n",
       "10138  09-2021         -11.0  "
      ]
     },
     "execution_count": 99,
     "metadata": {},
     "output_type": "execute_result"
    }
   ],
   "source": [
    "words_df[words_df['index'] == 'inflation']"
   ]
  },
  {
   "cell_type": "code",
   "execution_count": 97,
   "metadata": {},
   "outputs": [],
   "source": [
    "words_df.to_csv('data/words_topics.csv', index=False)"
   ]
  },
  {
   "cell_type": "code",
   "execution_count": 28,
   "metadata": {},
   "outputs": [],
   "source": [
    "corpus = []\n",
    "for n in range(hrl_df.shape[0]):\n",
    "    cps = hrl_df.iloc[n]['corpus']\n",
    "    cps = [i.strip() for i in cps.split('\\n') if i.strip() != '']\n",
    "    corpus.extend(cps)"
   ]
  },
  {
   "cell_type": "code",
   "execution_count": 29,
   "metadata": {},
   "outputs": [],
   "source": [
    "normalized_corpus = normalize_corpus(corpus)"
   ]
  },
  {
   "cell_type": "code",
   "execution_count": 30,
   "metadata": {},
   "outputs": [],
   "source": [
    "#define the bag-of-words vectorizer:\n",
    "bow_vectorizer = CountVectorizer(max_features=1000)\n",
    "#vectorize the normalized data:\n",
    "bow_corpus = bow_vectorizer.fit_transform(normalized_corpus)"
   ]
  },
  {
   "cell_type": "code",
   "execution_count": 31,
   "metadata": {},
   "outputs": [],
   "source": [
    "components = 4\n",
    "lda_corpus = LatentDirichletAllocation(n_components = components,\n",
    "                                       max_iter = 100,\n",
    "                                       doc_topic_prior = 0.2,\n",
    "                                       topic_word_prior = 0.2).fit(bow_corpus)"
   ]
  },
  {
   "cell_type": "code",
   "execution_count": 32,
   "metadata": {},
   "outputs": [
    {
     "name": "stdout",
     "output_type": "stream",
     "text": [
      "Topic 0:\n",
      "cash capital balance share turn end debt measure guy return free ship future second sheet\n",
      "Topic 1:\n",
      "sale increase revenue margin restaurant cost high continue expect growth impact second drive fourth covid\n",
      "Topic 2:\n",
      "look kind yes lot little people maybe time obviously great could start still way open\n",
      "Topic 3:\n",
      "new continue brand growth customer team guest drive digital experience opportunity focus strong product restaurant\n"
     ]
    }
   ],
   "source": [
    "no_top_words = 15\n",
    "display_topics(lda_corpus, bow_vectorizer.get_feature_names(), no_top_words)"
   ]
  },
  {
   "cell_type": "code",
   "execution_count": 34,
   "metadata": {},
   "outputs": [],
   "source": [
    "word_weights = lda_corpus.components_ / lda_corpus.components_.sum(axis=1)[:, np.newaxis]\n",
    "word_weights_df = pd.DataFrame(word_weights.T, \n",
    "                               index = bow_vectorizer.get_feature_names(), \n",
    "                               columns = [\"Topic_\" + str(i) for i in range(components)])\n",
    "word_weights_df = word_weights_df.sort_values(by = 'Topic_0', ascending = False)"
   ]
  },
  {
   "cell_type": "markdown",
   "metadata": {},
   "source": [
    "### Topic Model Visualization\n"
   ]
  },
  {
   "cell_type": "code",
   "execution_count": 36,
   "metadata": {},
   "outputs": [],
   "source": [
    "#prepare to display result in the Jupyter notebook\n",
    "pyLDAvis.enable_notebook()\n",
    "\n",
    "# mds is a function to use for visualizing the \"distance\" between topics]\n",
    "vis_data = pyLDAvis.sklearn.prepare(lda_corpus,\n",
    "                                     bow_corpus,\n",
    "                                     bow_vectorizer,\n",
    "                                     mds = 'tsne')"
   ]
  },
  {
   "cell_type": "code",
   "execution_count": 37,
   "metadata": {},
   "outputs": [
    {
     "name": "stderr",
     "output_type": "stream",
     "text": [
      "/opt/anaconda3/lib/python3.8/site-packages/past/builtins/misc.py:45: DeprecationWarning: the imp module is deprecated in favour of importlib; see the module's documentation for alternative uses\n",
      "  from imp import reload\n",
      "/opt/anaconda3/lib/python3.8/site-packages/past/builtins/misc.py:45: DeprecationWarning: the imp module is deprecated in favour of importlib; see the module's documentation for alternative uses\n",
      "  from imp import reload\n",
      "/opt/anaconda3/lib/python3.8/site-packages/past/builtins/misc.py:45: DeprecationWarning: the imp module is deprecated in favour of importlib; see the module's documentation for alternative uses\n",
      "  from imp import reload\n",
      "/opt/anaconda3/lib/python3.8/site-packages/past/builtins/misc.py:45: DeprecationWarning: the imp module is deprecated in favour of importlib; see the module's documentation for alternative uses\n",
      "  from imp import reload\n",
      "/opt/anaconda3/lib/python3.8/site-packages/past/builtins/misc.py:45: DeprecationWarning: the imp module is deprecated in favour of importlib; see the module's documentation for alternative uses\n",
      "  from imp import reload\n",
      "/opt/anaconda3/lib/python3.8/site-packages/past/builtins/misc.py:45: DeprecationWarning: the imp module is deprecated in favour of importlib; see the module's documentation for alternative uses\n",
      "  from imp import reload\n"
     ]
    }
   ],
   "source": [
    "pyLDAvis.save_html(vis_data, 'lda-2021.html')"
   ]
  }
 ],
 "metadata": {
  "kernelspec": {
   "display_name": "Python 3 (ipykernel)",
   "language": "python",
   "name": "python3"
  },
  "language_info": {
   "codemirror_mode": {
    "name": "ipython",
    "version": 3
   },
   "file_extension": ".py",
   "mimetype": "text/x-python",
   "name": "python",
   "nbconvert_exporter": "python",
   "pygments_lexer": "ipython3",
   "version": "3.8.11"
  }
 },
 "nbformat": 4,
 "nbformat_minor": 4
}
